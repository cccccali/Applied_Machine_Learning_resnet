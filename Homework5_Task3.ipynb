{
  "nbformat": 4,
  "nbformat_minor": 0,
  "metadata": {
    "colab": {
      "name": "Homework5_Task3_local.ipynb",
      "version": "0.3.2",
      "provenance": [],
      "collapsed_sections": [
        "9GId0Ssyn-xu",
        "M5U8dlnqrIVK",
        "h5RF80P4ixEa",
        "3RAEMJ6bl-EE"
      ],
      "include_colab_link": true
    },
    "language_info": {
      "codemirror_mode": {
        "name": "ipython",
        "version": 3
      },
      "file_extension": ".py",
      "mimetype": "text/x-python",
      "name": "python",
      "nbconvert_exporter": "python",
      "pygments_lexer": "ipython3",
      "version": "3.6.5"
    },
    "kernelspec": {
      "display_name": "Python 3",
      "language": "python",
      "name": "python3"
    },
    "accelerator": "GPU"
  },
  "cells": [
    {
      "cell_type": "markdown",
      "metadata": {
        "id": "view-in-github",
        "colab_type": "text"
      },
      "source": [
        "<a href=\"https://colab.research.google.com/github/aml-spring-19/homework-5-ds3731_lh2916_hw5/blob/master/Homework5_Task3.ipynb\" target=\"_parent\"><img src=\"https://colab.research.google.com/assets/colab-badge.svg\" alt=\"Open In Colab\"/></a>"
      ]
    },
    {
      "metadata": {
        "colab_type": "text",
        "id": "GfBuKoe67Opw"
      },
      "cell_type": "markdown",
      "source": [
        "# Task 3"
      ]
    },
    {
      "metadata": {
        "colab_type": "code",
        "id": "eDsM_7HodoO1",
        "outputId": "257700f0-6096-48da-a0a5-e8fdfe8a3852",
        "colab": {
          "base_uri": "https://localhost:8080/",
          "height": 34
        }
      },
      "cell_type": "code",
      "source": [
        "import pandas as pd\n",
        "import numpy as np\n",
        "import matplotlib.pyplot as plt\n",
        "from google.colab import files\n",
        "import glob, zipfile, imageio, fnmatch, cv2, random\n",
        "import keras\n",
        "from keras.layers import (Conv2D, MaxPooling2D,\n",
        "                         Flatten, Dense, Activation,\n",
        "                         BatchNormalization, Input, add)\n",
        "from keras.models import Sequential, Model\n",
        "from keras.preprocessing.image import ImageDataGenerator\n",
        "from sklearn.model_selection import train_test_split\n",
        "from imblearn.under_sampling import RandomUnderSampler"
      ],
      "execution_count": 0,
      "outputs": [
        {
          "output_type": "stream",
          "text": [
            "Using TensorFlow backend.\n"
          ],
          "name": "stderr"
        }
      ]
    },
    {
      "metadata": {
        "colab_type": "code",
        "id": "a1LnkX1R_OEy",
        "colab": {}
      },
      "cell_type": "code",
      "source": [
        "np.random.seed(seed=42)"
      ],
      "execution_count": 0,
      "outputs": []
    },
    {
      "metadata": {
        "colab_type": "text",
        "id": "J8YHhMdWn3pg"
      },
      "cell_type": "markdown",
      "source": [
        "## Loading in the data using Kaggle API"
      ]
    },
    {
      "metadata": {
        "colab_type": "code",
        "id": "CXvvyQSUeSWs",
        "outputId": "cc3be1cd-a0db-473f-d141-529d2a1c78da",
        "colab": {
          "resources": {
            "http://localhost:8080/nbextensions/google.colab/files.js": {
              "data": "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",
              "headers": [
                [
                  "content-type",
                  "application/javascript"
                ]
              ],
              "ok": true,
              "status": 200,
              "status_text": ""
            }
          },
          "base_uri": "https://localhost:8080/",
          "height": 88
        }
      },
      "cell_type": "code",
      "source": [
        "files.upload()\n"
      ],
      "execution_count": 0,
      "outputs": [
        {
          "output_type": "display_data",
          "data": {
            "text/html": [
              "\n",
              "     <input type=\"file\" id=\"files-7cef90c3-b24a-458b-8316-06351ce063b1\" name=\"files[]\" multiple disabled />\n",
              "     <output id=\"result-7cef90c3-b24a-458b-8316-06351ce063b1\">\n",
              "      Upload widget is only available when the cell has been executed in the\n",
              "      current browser session. Please rerun this cell to enable.\n",
              "      </output>\n",
              "      <script src=\"/nbextensions/google.colab/files.js\"></script> "
            ],
            "text/plain": [
              "<IPython.core.display.HTML object>"
            ]
          },
          "metadata": {
            "tags": []
          }
        },
        {
          "output_type": "stream",
          "text": [
            "Saving kaggle.json to kaggle (1).json\n"
          ],
          "name": "stdout"
        },
        {
          "output_type": "execute_result",
          "data": {
            "text/plain": [
              "{'kaggle.json': b'{\"username\":\"cccccali\",\"key\":\"56abaf9a6a6f96332143c2ec4c687af6\"}'}"
            ]
          },
          "metadata": {
            "tags": []
          },
          "execution_count": 3
        }
      ]
    },
    {
      "metadata": {
        "colab_type": "code",
        "id": "TAEa_sLC-C4B",
        "outputId": "898af62d-58a9-49c6-9da4-7cc86332b929",
        "colab": {
          "base_uri": "https://localhost:8080/",
          "height": 85
        }
      },
      "cell_type": "code",
      "source": [
        "!pip install -q kaggle\n",
        "!mkdir -p ~/.kaggle\n",
        "!cp kaggle.json ~/.kaggle/\n",
        "!kaggle datasets download -d paultimothymooney/breast-histopathology-images"
      ],
      "execution_count": 0,
      "outputs": [
        {
          "output_type": "stream",
          "text": [
            "Warning: Your Kaggle API key is readable by other users on this system! To fix this, you can run 'chmod 600 /root/.kaggle/kaggle.json'\n",
            "Downloading breast-histopathology-images.zip to /content\n",
            " 99% 1.47G/1.49G [00:21<00:00, 83.7MB/s]\n",
            "100% 1.49G/1.49G [00:21<00:00, 73.4MB/s]\n"
          ],
          "name": "stdout"
        }
      ]
    },
    {
      "metadata": {
        "colab_type": "code",
        "id": "mOEjLTl1-acu",
        "colab": {}
      },
      "cell_type": "code",
      "source": [
        "zip_ref = zipfile.ZipFile('/content/breast-histopathology-images.zip', 'r')\n",
        "zip_ref.extractall('/content')\n",
        "zip_ref.close()\n",
        "\n",
        "zip_ref = zipfile.ZipFile('/content/IDC_regular_ps50_idx5.zip', 'r')\n",
        "zip_ref.extractall('/content')\n",
        "zip_ref.close()"
      ],
      "execution_count": 0,
      "outputs": []
    },
    {
      "metadata": {
        "colab_type": "text",
        "id": "9GId0Ssyn-xu"
      },
      "cell_type": "markdown",
      "source": [
        "## Process images"
      ]
    },
    {
      "metadata": {
        "colab_type": "code",
        "id": "mrPZPFJL_8PH",
        "outputId": "a75606d2-f6a9-40ac-c593-44403e0f16eb",
        "colab": {
          "base_uri": "https://localhost:8080/",
          "height": 34
        }
      },
      "cell_type": "code",
      "source": [
        "# Get shape of image\n",
        "im = cv2.imread('../content/10253/0/10253_idx5_x1001_y1001_class0.png')\n",
        "image_size = im.shape\n",
        "print(image_size)"
      ],
      "execution_count": 0,
      "outputs": [
        {
          "output_type": "stream",
          "text": [
            "(50, 50, 3)\n"
          ],
          "name": "stdout"
        }
      ]
    },
    {
      "metadata": {
        "colab_type": "code",
        "id": "DJPSHQ3iTdYU",
        "outputId": "d0f0ae42-7255-41d3-c076-a24e93a55632",
        "colab": {
          "base_uri": "https://localhost:8080/",
          "height": 102
        }
      },
      "cell_type": "code",
      "source": [
        "filenames = glob.glob('../content/**/*.png', recursive=True)\n",
        "n_imgs = len(filenames)\n",
        "filenames[0:5]"
      ],
      "execution_count": 0,
      "outputs": [
        {
          "output_type": "execute_result",
          "data": {
            "text/plain": [
              "['../content/9077/1/9077_idx5_x1151_y901_class1.png',\n",
              " '../content/9077/1/9077_idx5_x2501_y1251_class1.png',\n",
              " '../content/9077/1/9077_idx5_x651_y1451_class1.png',\n",
              " '../content/9077/1/9077_idx5_x2351_y751_class1.png',\n",
              " '../content/9077/1/9077_idx5_x1901_y2001_class1.png']"
            ]
          },
          "metadata": {
            "tags": []
          },
          "execution_count": 7
        }
      ]
    },
    {
      "metadata": {
        "colab_type": "code",
        "id": "lvNjXuzyIuI-",
        "colab": {}
      },
      "cell_type": "code",
      "source": [
        "# Function to plot image with color\n",
        "def plotImage(image_name):\n",
        "    image = cv2.imread(image_name)\n",
        "    image = cv2.resize(image, (50,50))\n",
        "    plt.imshow(cv2.cvtColor(image, cv2.COLOR_BGR2RGB))\n",
        "    return\n"
      ],
      "execution_count": 0,
      "outputs": []
    },
    {
      "metadata": {
        "colab_type": "code",
        "id": "7_Z_6h_EBjF5",
        "outputId": "931e4853-1955-4b22-cb72-4b7690a0ac57",
        "colab": {
          "base_uri": "https://localhost:8080/",
          "height": 269
        }
      },
      "cell_type": "code",
      "source": [
        "# Test plot an image\n",
        "test_img = filenames[0]\n",
        "plotImage(test_img)"
      ],
      "execution_count": 0,
      "outputs": [
        {
          "output_type": "display_data",
          "data": {
            "image/png": "[encoded data removed]",
            "text/plain": [
              "<Figure size 432x288 with 1 Axes>"
            ]
          },
          "metadata": {
            "tags": []
          }
        }
      ]
    },
    {
      "metadata": {
        "colab_type": "text",
        "id": "g9sT3bwFBtJn"
      },
      "cell_type": "markdown",
      "source": [
        "Split filenames into 2 classes"
      ]
    },
    {
      "metadata": {
        "colab_type": "code",
        "id": "hViXb2ztUoRy",
        "outputId": "2c9d2a20-dcbb-44a9-b18b-f00113dc8f73",
        "colab": {
          "base_uri": "https://localhost:8080/",
          "height": 68
        }
      },
      "cell_type": "code",
      "source": [
        "class0_ending = '*class0.png'\n",
        "class1_ending = '*class1.png'\n",
        "class_0 = np.array(fnmatch.filter(filenames, class0_ending))\n",
        "class_1 = np.array(fnmatch.filter(filenames, class1_ending))\n",
        "print(\"Non-IDC (Class 0): \",len(class_0),'\\n')\n",
        "print(\"IDC (Class 1): \",len(class_1))"
      ],
      "execution_count": 0,
      "outputs": [
        {
          "output_type": "stream",
          "text": [
            "Non-IDC (Class 0):  198738 \n",
            "\n",
            "IDC (Class 1):  78786\n"
          ],
          "name": "stdout"
        }
      ]
    },
    {
      "metadata": {
        "colab_type": "text",
        "id": "5WRw3kZfBxi7"
      },
      "cell_type": "markdown",
      "source": [
        "Process each class of filenames into arrays"
      ]
    },
    {
      "metadata": {
        "colab_type": "code",
        "id": "Uo0pWQcD4amb",
        "colab": {}
      },
      "cell_type": "code",
      "source": [
        "X_0 = np.array([cv2.resize(cv2.imread(x), (50, 50), \n",
        "                           interpolation=cv2.INTER_CUBIC) for x in class_0])\n",
        "y_0 = np.repeat(0, X_0.shape[0])"
      ],
      "execution_count": 0,
      "outputs": []
    },
    {
      "metadata": {
        "colab_type": "code",
        "id": "L2gmOlUF6Lm8",
        "colab": {}
      },
      "cell_type": "code",
      "source": [
        "X_1 = np.array([cv2.resize(cv2.imread(x), (50, 50), \n",
        "                           interpolation=cv2.INTER_CUBIC) for x in class_1])\n",
        "y_1 = np.repeat(1, X_1.shape[0])"
      ],
      "execution_count": 0,
      "outputs": []
    },
    {
      "metadata": {
        "colab_type": "text",
        "id": "M5U8dlnqrIVK"
      },
      "cell_type": "markdown",
      "source": [
        "## Using subsamples (used this when testing code)"
      ]
    },
    {
      "metadata": {
        "colab_type": "code",
        "id": "PrjDsU6sj130",
        "outputId": "2c87d74b-b144-48fa-ff8b-b6629e946cde",
        "colab": {
          "base_uri": "https://localhost:8080/",
          "height": 51
        }
      },
      "cell_type": "code",
      "source": [
        "class0_size = X_0.shape[0]\n",
        "class0_subsample_size = int(class0_size * .8)\n",
        "print(class0_size)\n",
        "print(class0_subsample_size)\n",
        "\n",
        "class0_idx = np.random.choice(class0_size, class0_subsample_size)\n",
        "X_0_subsample = X_0[class0_idx]\n",
        "y_0_subsample = y_0[class0_idx]"
      ],
      "execution_count": 0,
      "outputs": [
        {
          "output_type": "stream",
          "text": [
            "198738\n",
            "158990\n"
          ],
          "name": "stdout"
        }
      ]
    },
    {
      "metadata": {
        "colab_type": "code",
        "id": "UThe__GqkPhs",
        "outputId": "93d72dce-315d-44bc-cf39-5f9c7927b631",
        "colab": {
          "base_uri": "https://localhost:8080/",
          "height": 51
        }
      },
      "cell_type": "code",
      "source": [
        "class1_size = X_1.shape[0]\n",
        "class1_subsample_size = int(class1_size * .8)\n",
        "print(class1_size)\n",
        "print(class1_subsample_size)\n",
        "\n",
        "class1_idx = np.random.choice(class1_size, class1_subsample_size)\n",
        "class1_subsample = X_1[class1_idx]\n",
        "X_1_subsample = X_1[class1_idx]\n",
        "y_1_subsample = y_1[class1_idx]"
      ],
      "execution_count": 0,
      "outputs": [
        {
          "output_type": "stream",
          "text": [
            "78786\n",
            "63028\n"
          ],
          "name": "stdout"
        }
      ]
    },
    {
      "metadata": {
        "colab_type": "code",
        "id": "9ytP2CsxlZRP",
        "outputId": "4aa64d94-cb30-4e6f-8eb8-52cfbd18d834",
        "colab": {
          "base_uri": "https://localhost:8080/",
          "height": 51
        }
      },
      "cell_type": "code",
      "source": [
        "X_subsample = np.concatenate((X_0_subsample, X_1_subsample))\n",
        "y_subsample = np.concatenate((y_0_subsample, y_1_subsample))\n",
        "print(X_subsample.shape)\n",
        "print(y_subsample.shape)"
      ],
      "execution_count": 0,
      "outputs": [
        {
          "output_type": "stream",
          "text": [
            "(222018, 50, 50, 3)\n",
            "(222018,)\n"
          ],
          "name": "stdout"
        }
      ]
    },
    {
      "metadata": {
        "colab_type": "text",
        "id": "iViaCvQJCWvY"
      },
      "cell_type": "markdown",
      "source": [
        "**Splitting into training set, validation set, and test set**"
      ]
    },
    {
      "metadata": {
        "colab_type": "code",
        "id": "62w5zUNvCUQ6",
        "colab": {}
      },
      "cell_type": "code",
      "source": [
        "X_trainval, X_test, y_trainval, y_test = train_test_split(X_subsample, y_subsample,\n",
        "                                                          test_size=0.2,\n",
        "                                                          stratify=y_subsample,\n",
        "                                                          random_state=42,\n",
        "                                                          )\n",
        "X_train, X_val, y_train, y_val = train_test_split(X_trainval, y_trainval,\n",
        "                                                  test_size=0.1,\n",
        "                                                  stratify=y_trainval,\n",
        "                                                  random_state=42,\n",
        "                                                  )"
      ],
      "execution_count": 0,
      "outputs": []
    },
    {
      "metadata": {
        "colab_type": "text",
        "id": "8Ra6K94GCJml"
      },
      "cell_type": "markdown",
      "source": [
        "## Using full data"
      ]
    },
    {
      "metadata": {
        "colab_type": "code",
        "id": "HNIJkhfgCQFE",
        "outputId": "cbe6e870-b954-4bf3-afb9-a6cf8a362cc1",
        "colab": {
          "base_uri": "https://localhost:8080/",
          "height": 51
        }
      },
      "cell_type": "code",
      "source": [
        "X = np.concatenate((X_0, X_1))\n",
        "y = np.concatenate((y_0, y_1))\n",
        "print(X.shape)\n",
        "print(y.shape)"
      ],
      "execution_count": 0,
      "outputs": [
        {
          "output_type": "stream",
          "text": [
            "(277524, 50, 50, 3)\n",
            "(277524,)\n"
          ],
          "name": "stdout"
        }
      ]
    },
    {
      "metadata": {
        "colab_type": "code",
        "id": "rNSXiiQEI4DR",
        "colab": {}
      },
      "cell_type": "code",
      "source": [
        "np.save(\"X_all.npy\", X)\n",
        "np.save(\"y_all.npy\", y)"
      ],
      "execution_count": 0,
      "outputs": []
    },
    {
      "metadata": {
        "colab_type": "code",
        "id": "Z6VK51BXJJl0",
        "colab": {}
      },
      "cell_type": "code",
      "source": [
        "X = np.load(\"X_all.npy\")\n",
        "y = np.load(\"y_all.npy\")"
      ],
      "execution_count": 0,
      "outputs": []
    },
    {
      "metadata": {
        "colab_type": "text",
        "id": "rTyTdwHsrf0t"
      },
      "cell_type": "markdown",
      "source": [
        "**Splitting into training set, validation set, and test set**"
      ]
    },
    {
      "metadata": {
        "colab_type": "code",
        "id": "dlyb-GL2OcAk",
        "colab": {}
      },
      "cell_type": "code",
      "source": [
        "X_trainval, X_test, y_trainval, y_test = train_test_split(X, y,\n",
        "                                                          test_size=0.2,\n",
        "                                                          stratify=y,\n",
        "                                                          random_state=42,\n",
        "                                                          )\n",
        "X_train, X_val, y_train, y_val = train_test_split(X_trainval, y_trainval,\n",
        "                                                  test_size=0.1,\n",
        "                                                  stratify=y_trainval,\n",
        "                                                  random_state=42,\n",
        "                                                  )"
      ],
      "execution_count": 0,
      "outputs": []
    },
    {
      "metadata": {
        "colab_type": "code",
        "id": "34o7zds7RTCQ",
        "outputId": "4dcf8b07-d1c4-400f-8027-ab722031b69a",
        "colab": {
          "base_uri": "https://localhost:8080/",
          "height": 306
        }
      },
      "cell_type": "code",
      "source": [
        "# Training, Validation, and Test Set\n",
        "# Ratios of class 0 and class 1 and Shapes\n",
        "print('Training Set: ')\n",
        "print('Shape: ', X_train.shape)\n",
        "print(pd.DataFrame(y_train)[0].value_counts(), '\\n')\n",
        "\n",
        "print('Validation Set: ')\n",
        "print('Shape: ', X_val.shape)\n",
        "print(pd.DataFrame(y_val)[0].value_counts(), '\\n')\n",
        "\n",
        "print('Test Set: ')\n",
        "print('Shape: ', X_test.shape)\n",
        "print(pd.DataFrame(y_test)[0].value_counts())"
      ],
      "execution_count": 0,
      "outputs": [
        {
          "output_type": "stream",
          "text": [
            "Training Set: \n",
            "Shape:  (199817, 50, 50, 3)\n",
            "0    143091\n",
            "1     56726\n",
            "Name: 0, dtype: int64 \n",
            "\n",
            "Validation Set: \n",
            "Shape:  (22202, 50, 50, 3)\n",
            "0    15899\n",
            "1     6303\n",
            "Name: 0, dtype: int64 \n",
            "\n",
            "Test Set: \n",
            "Shape:  (55505, 50, 50, 3)\n",
            "0    39748\n",
            "1    15757\n",
            "Name: 0, dtype: int64\n"
          ],
          "name": "stdout"
        }
      ]
    },
    {
      "metadata": {
        "colab_type": "text",
        "id": "uY95aElRt7bc"
      },
      "cell_type": "markdown",
      "source": [
        "###**Balancing the training set**"
      ]
    },
    {
      "metadata": {
        "colab_type": "text",
        "id": "gOR72OREGaui"
      },
      "cell_type": "markdown",
      "source": [
        "You can see that this is an imbalanced dataset, with many more class 0 than class 1. Therefore, I am going to balance the training set, and keep the validation and test set imbalanced to accuractely imitate the classification problem at hand."
      ]
    },
    {
      "metadata": {
        "colab_type": "text",
        "id": "1VJ6RKQVuAEG"
      },
      "cell_type": "markdown",
      "source": [
        "In order to use imblearn's RandomUnderSampler, the shape of the inputs have to be flat, so we flatten the training set, balance it, and then reshape it back to the right shape of (n_samples, 50, 50, 3)"
      ]
    },
    {
      "metadata": {
        "colab_type": "code",
        "id": "TavMzOFY_DGo",
        "outputId": "cbbd1cdc-7ad1-445b-fa8e-e36a7d1c122e",
        "colab": {
          "base_uri": "https://localhost:8080/",
          "height": 102
        }
      },
      "cell_type": "code",
      "source": [
        "X_trainShape = X_train.shape[1]*X_train.shape[2]*X_train.shape[3]\n",
        "X_trainFlat = X_train.reshape(X_train.shape[0], X_trainShape)\n",
        "\n",
        "rus = RandomUnderSampler(random_state=42)\n",
        "X_train_rus_flat, y_train_rus = rus.fit_sample(X_trainFlat, y_train)\n",
        "\n",
        "# Balanced Training Set Ratio\n",
        "print('Training Set: ')\n",
        "print('Shape: ', X_train_rus_flat.shape)\n",
        "print(pd.DataFrame(y_train_rus)[0].value_counts())"
      ],
      "execution_count": 0,
      "outputs": [
        {
          "output_type": "stream",
          "text": [
            "Training Set: \n",
            "Shape:  (113452, 7500)\n",
            "1    56726\n",
            "0    56726\n",
            "Name: 0, dtype: int64\n"
          ],
          "name": "stdout"
        }
      ]
    },
    {
      "metadata": {
        "colab_type": "text",
        "id": "ANuSD3LZCxrk"
      },
      "cell_type": "markdown",
      "source": [
        "Rehaping back to (50, 50, 3) for each in X_train"
      ]
    },
    {
      "metadata": {
        "colab_type": "code",
        "id": "qtDbfPPQ_D9T",
        "colab": {}
      },
      "cell_type": "code",
      "source": [
        "X_train_rus = X_train_rus_flat.reshape(len(X_train_rus_flat),\n",
        "                                       X_train.shape[1],\n",
        "                                       X_train.shape[2],\n",
        "                                       X_train.shape[3])"
      ],
      "execution_count": 0,
      "outputs": []
    },
    {
      "metadata": {
        "colab_type": "text",
        "id": "lRQv_tLxuW_J"
      },
      "cell_type": "markdown",
      "source": [
        "We shuffle the training set because it was ordered with all class 0 first and then all class 1after that."
      ]
    },
    {
      "metadata": {
        "colab_type": "code",
        "id": "Spzind-k_Fzi",
        "outputId": "68a69c1f-00bb-42e5-a5de-a7c6d518706c",
        "colab": {
          "base_uri": "https://localhost:8080/",
          "height": 51
        }
      },
      "cell_type": "code",
      "source": [
        "from sklearn.utils import shuffle\n",
        "X_train_rus, y_train_rus = shuffle(X_train_rus, y_train_rus)\n",
        "\n",
        "print(X_train_rus.shape)\n",
        "print(y_train_rus.shape)\n"
      ],
      "execution_count": 0,
      "outputs": [
        {
          "output_type": "stream",
          "text": [
            "(113452, 50, 50, 3)\n",
            "(113452,)\n"
          ],
          "name": "stdout"
        }
      ]
    },
    {
      "metadata": {
        "colab_type": "text",
        "id": "1vOmb0K6wY3A"
      },
      "cell_type": "markdown",
      "source": [
        "Encoding categorical y labels as 2 binary columns"
      ]
    },
    {
      "metadata": {
        "colab_type": "code",
        "id": "1483lx54_Qf0",
        "colab": {}
      },
      "cell_type": "code",
      "source": [
        "# OHE y variable to use softmax\n",
        "n_classes = 2\n",
        "y_train_rus_ohe = keras.utils.to_categorical(y_train_rus, n_classes)\n",
        "y_test_ohe = keras.utils.to_categorical(y_test, n_classes)\n",
        "y_val_ohe = keras.utils.to_categorical(y_val, n_classes)"
      ],
      "execution_count": 0,
      "outputs": []
    },
    {
      "metadata": {
        "colab_type": "code",
        "id": "87RUr-F7L74-",
        "colab": {}
      },
      "cell_type": "code",
      "source": [
        "# Delete variables to save RAM\n",
        "# del y_train_rus, y_test, y_val, X_train, X_trainShape, X_trainFlat, X_train_rus_flat, X, y"
      ],
      "execution_count": 0,
      "outputs": []
    },
    {
      "metadata": {
        "colab_type": "text",
        "id": "l-_bj0Cyw5c_"
      },
      "cell_type": "markdown",
      "source": [
        "Plot image again to make sure it wasn't garbled"
      ]
    },
    {
      "metadata": {
        "colab_type": "code",
        "id": "q0RwBMk5_tVu",
        "outputId": "1428615a-8801-40b9-8465-67904dcf8130",
        "colab": {
          "base_uri": "https://localhost:8080/",
          "height": 269
        }
      },
      "cell_type": "code",
      "source": [
        "plt.imshow(X_train_rus[0])\n",
        "plt.show()"
      ],
      "execution_count": 0,
      "outputs": [
        {
          "output_type": "display_data",
          "data": {
            "image/png": "[encoded data removed]",
            "text/plain": [
              "<Figure size 432x288 with 1 Axes>"
            ]
          },
          "metadata": {
            "tags": []
          }
        }
      ]
    },
    {
      "metadata": {
        "colab_type": "text",
        "id": "h5RF80P4ixEa"
      },
      "cell_type": "markdown",
      "source": [
        "# 3.1\n",
        "**Baseline CNN**"
      ]
    },
    {
      "metadata": {
        "colab_type": "code",
        "id": "QHWKPNUaPd_J",
        "outputId": "1f25e21c-19c2-4d30-8c83-6a05c0973271",
        "colab": {
          "base_uri": "https://localhost:8080/",
          "height": 88
        }
      },
      "cell_type": "code",
      "source": [
        "input_shape = X_train_rus.shape[1:]\n",
        "n_classes = 2\n",
        "input_shape = X_train_rus.shape[1:]\n",
        "\n",
        "cnn_model = Sequential()\n",
        "\n",
        "# 1st layer\n",
        "cnn_model.add(Conv2D(32, kernel_size=(3, 3),\n",
        "                     input_shape=input_shape))\n",
        "cnn_model.add(BatchNormalization())\n",
        "cnn_model.add(Activation(\"relu\"))\n",
        "\n",
        "cnn_model.add(MaxPooling2D(pool_size=(2, 2)))\n",
        "\n",
        "# 2nd layer\n",
        "cnn_model.add(Conv2D(32, (3, 3)))\n",
        "cnn_model.add(BatchNormalization())\n",
        "cnn_model.add(Activation(\"relu\"))\n",
        "\n",
        "cnn_model.add(MaxPooling2D(pool_size=(2, 2)))\n",
        "\n",
        "# 3rd layer\n",
        "cnn_model.add(Flatten())\n",
        "cnn_model.add(Dense(64, activation='relu'))\n",
        "\n",
        "# output layer, output dimension = number of classes\n",
        "cnn_model.add(Dense(n_classes, activation='softmax'))"
      ],
      "execution_count": 0,
      "outputs": [
        {
          "output_type": "stream",
          "text": [
            "WARNING:tensorflow:From /usr/local/lib/python3.6/dist-packages/tensorflow/python/framework/op_def_library.py:263: colocate_with (from tensorflow.python.framework.ops) is deprecated and will be removed in a future version.\n",
            "Instructions for updating:\n",
            "Colocations handled automatically by placer.\n"
          ],
          "name": "stdout"
        }
      ]
    },
    {
      "metadata": {
        "colab_type": "code",
        "id": "Fs-XuL46PsFt",
        "outputId": "c03d9cd2-f8bb-44cc-ee7c-898269b877c8",
        "colab": {
          "base_uri": "https://localhost:8080/",
          "height": 510
        }
      },
      "cell_type": "code",
      "source": [
        "cnn_model.summary()"
      ],
      "execution_count": 0,
      "outputs": [
        {
          "output_type": "stream",
          "text": [
            "_________________________________________________________________\n",
            "Layer (type)                 Output Shape              Param #   \n",
            "=================================================================\n",
            "conv2d_1 (Conv2D)            (None, 48, 48, 32)        896       \n",
            "_________________________________________________________________\n",
            "batch_normalization_1 (Batch (None, 48, 48, 32)        128       \n",
            "_________________________________________________________________\n",
            "activation_1 (Activation)    (None, 48, 48, 32)        0         \n",
            "_________________________________________________________________\n",
            "max_pooling2d_1 (MaxPooling2 (None, 24, 24, 32)        0         \n",
            "_________________________________________________________________\n",
            "conv2d_2 (Conv2D)            (None, 22, 22, 32)        9248      \n",
            "_________________________________________________________________\n",
            "batch_normalization_2 (Batch (None, 22, 22, 32)        128       \n",
            "_________________________________________________________________\n",
            "activation_2 (Activation)    (None, 22, 22, 32)        0         \n",
            "_________________________________________________________________\n",
            "max_pooling2d_2 (MaxPooling2 (None, 11, 11, 32)        0         \n",
            "_________________________________________________________________\n",
            "flatten_1 (Flatten)          (None, 3872)              0         \n",
            "_________________________________________________________________\n",
            "dense_1 (Dense)              (None, 64)                247872    \n",
            "_________________________________________________________________\n",
            "dense_2 (Dense)              (None, 2)                 130       \n",
            "=================================================================\n",
            "Total params: 258,402\n",
            "Trainable params: 258,274\n",
            "Non-trainable params: 128\n",
            "_________________________________________________________________\n"
          ],
          "name": "stdout"
        }
      ]
    },
    {
      "metadata": {
        "colab_type": "code",
        "id": "6jsKvhNiM5B4",
        "colab": {}
      },
      "cell_type": "code",
      "source": [
        "cnn_model.compile(optimizer=\"adam\",\n",
        "                  loss=\"categorical_crossentropy\",\n",
        "                  metrics=['accuracy'])"
      ],
      "execution_count": 0,
      "outputs": []
    },
    {
      "metadata": {
        "colab_type": "code",
        "id": "_tFMEKLbPtec",
        "outputId": "e291ff06-91b9-410f-a6d1-99b693b5c0fd",
        "colab": {
          "base_uri": "https://localhost:8080/",
          "height": 445
        }
      },
      "cell_type": "code",
      "source": [
        "cnn = cnn_model.fit(X_train_rus, y_train_rus_ohe,\n",
        "                    batch_size=32,\n",
        "                    epochs=10,\n",
        "                    verbose=1,\n",
        "                    validation_data=(X_val, y_val_ohe))"
      ],
      "execution_count": 0,
      "outputs": [
        {
          "output_type": "stream",
          "text": [
            "WARNING:tensorflow:From /usr/local/lib/python3.6/dist-packages/tensorflow/python/ops/math_ops.py:3066: to_int32 (from tensorflow.python.ops.math_ops) is deprecated and will be removed in a future version.\n",
            "Instructions for updating:\n",
            "Use tf.cast instead.\n",
            "Train on 113452 samples, validate on 22202 samples\n",
            "Epoch 1/10\n",
            "113452/113452 [==============================] - 29s 256us/step - loss: 0.4002 - acc: 0.8283 - val_loss: 0.3754 - val_acc: 0.8425\n",
            "Epoch 2/10\n",
            "113452/113452 [==============================] - 24s 210us/step - loss: 0.3681 - acc: 0.8431 - val_loss: 0.4802 - val_acc: 0.7529\n",
            "Epoch 3/10\n",
            "113452/113452 [==============================] - 25s 217us/step - loss: 0.3538 - acc: 0.8510 - val_loss: 0.3681 - val_acc: 0.8548\n",
            "Epoch 4/10\n",
            "113452/113452 [==============================] - 24s 208us/step - loss: 0.3447 - acc: 0.8546 - val_loss: 0.4347 - val_acc: 0.7998\n",
            "Epoch 5/10\n",
            "113452/113452 [==============================] - 24s 207us/step - loss: 0.3362 - acc: 0.8582 - val_loss: 0.3819 - val_acc: 0.8635\n",
            "Epoch 6/10\n",
            "113452/113452 [==============================] - 24s 210us/step - loss: 0.3308 - acc: 0.8600 - val_loss: 0.3833 - val_acc: 0.8434\n",
            "Epoch 7/10\n",
            "113452/113452 [==============================] - 24s 214us/step - loss: 0.3245 - acc: 0.8628 - val_loss: 0.4226 - val_acc: 0.8418\n",
            "Epoch 8/10\n",
            "113452/113452 [==============================] - 24s 208us/step - loss: 0.3176 - acc: 0.8655 - val_loss: 0.3804 - val_acc: 0.8446\n",
            "Epoch 9/10\n",
            "113452/113452 [==============================] - 25s 217us/step - loss: 0.3131 - acc: 0.8669 - val_loss: 0.6165 - val_acc: 0.7327\n",
            "Epoch 10/10\n",
            "113452/113452 [==============================] - 24s 215us/step - loss: 0.3074 - acc: 0.8703 - val_loss: 0.3932 - val_acc: 0.8217\n"
          ],
          "name": "stdout"
        }
      ]
    },
    {
      "metadata": {
        "colab_type": "code",
        "id": "motHyP15VRXb",
        "colab": {}
      },
      "cell_type": "code",
      "source": [
        "def plot_history(logger):\n",
        "    df = pd.DataFrame(logger.history)\n",
        "    df[['acc', 'val_acc']].plot()\n",
        "    plt.ylabel(\"Accuracy\")\n",
        "    plt.xlabel(\"Epoch\")\n",
        "    plt.title(\"Neural network training results\")"
      ],
      "execution_count": 0,
      "outputs": []
    },
    {
      "metadata": {
        "colab_type": "code",
        "id": "E0eSln7LXIhO",
        "outputId": "0e663ae1-2da1-4fb2-eb4b-eded6a73346e",
        "colab": {
          "base_uri": "https://localhost:8080/",
          "height": 295
        }
      },
      "cell_type": "code",
      "source": [
        "plot_history(cnn)"
      ],
      "execution_count": 0,
      "outputs": [
        {
          "output_type": "display_data",
          "data": {
            "image/png": "[encoded data removed]",
            "text/plain": [
              "<Figure size 432x288 with 1 Axes>"
            ]
          },
          "metadata": {
            "tags": []
          }
        }
      ]
    },
    {
      "metadata": {
        "colab_type": "text",
        "id": "FVAZhJ-5nj_E"
      },
      "cell_type": "markdown",
      "source": [
        "**Test Set Results:**"
      ]
    },
    {
      "metadata": {
        "colab_type": "code",
        "id": "32wM0t3MVYiZ",
        "outputId": "491c2670-13af-4688-886e-a5183452dde8",
        "colab": {
          "base_uri": "https://localhost:8080/",
          "height": 51
        }
      },
      "cell_type": "code",
      "source": [
        "cnn_model.evaluate(X_test, y_test_ohe)"
      ],
      "execution_count": 0,
      "outputs": [
        {
          "output_type": "stream",
          "text": [
            "55505/55505 [==============================] - 5s 84us/step\n"
          ],
          "name": "stdout"
        },
        {
          "output_type": "execute_result",
          "data": {
            "text/plain": [
              "[0.39806791648339845, 0.819782001625771]"
            ]
          },
          "metadata": {
            "tags": []
          },
          "execution_count": 28
        }
      ]
    },
    {
      "metadata": {
        "colab_type": "text",
        "id": "g0kgmo0vDzWh"
      },
      "cell_type": "markdown",
      "source": [
        "The baseline CNN with 2 convolutional layers had a test accuracy score of 0.8198 after being trained on the full training set (aside from the portion that got removed from balancing the training set.)"
      ]
    },
    {
      "metadata": {
        "colab_type": "text",
        "id": "3RAEMJ6bl-EE"
      },
      "cell_type": "markdown",
      "source": [
        "# 3.2\n",
        "**CNN with data augmentation**"
      ]
    },
    {
      "metadata": {
        "colab_type": "code",
        "id": "2TqvgYWns_Jk",
        "outputId": "e13ef563-fb3d-41c6-e78d-f4859e60075f",
        "colab": {
          "base_uri": "https://localhost:8080/",
          "height": 88
        }
      },
      "cell_type": "code",
      "source": [
        "n_classes = 2\n",
        "input_shape = X_train_rus.shape[1:]\n",
        "cnn_model_aug = Sequential()\n",
        "\n",
        "# 1st layer\n",
        "cnn_model_aug.add(Conv2D(32, kernel_size=(3, 3),\n",
        "                     input_shape=input_shape))\n",
        "cnn_model_aug.add(BatchNormalization())\n",
        "cnn_model_aug.add(Activation(\"relu\"))\n",
        "\n",
        "cnn_model_aug.add(MaxPooling2D(pool_size=(2, 2)))\n",
        "\n",
        "# 2nd layer\n",
        "cnn_model_aug.add(Conv2D(32, (3, 3)))\n",
        "cnn_model_aug.add(BatchNormalization())\n",
        "cnn_model_aug.add(Activation(\"relu\"))\n",
        "\n",
        "cnn_model_aug.add(MaxPooling2D(pool_size=(2, 2)))\n",
        "\n",
        "# 3rd layer\n",
        "cnn_model_aug.add(Flatten())\n",
        "cnn_model_aug.add(Dense(64, activation='relu'))\n",
        "\n",
        "# output layer, output dimension = number of classes\n",
        "cnn_model_aug.add(Dense(n_classes, activation='softmax'))"
      ],
      "execution_count": 0,
      "outputs": [
        {
          "output_type": "stream",
          "text": [
            "WARNING:tensorflow:From /usr/local/lib/python3.6/dist-packages/tensorflow/python/framework/op_def_library.py:263: colocate_with (from tensorflow.python.framework.ops) is deprecated and will be removed in a future version.\n",
            "Instructions for updating:\n",
            "Colocations handled automatically by placer.\n"
          ],
          "name": "stdout"
        }
      ]
    },
    {
      "metadata": {
        "colab_type": "code",
        "id": "spZNZFF6sbe_",
        "colab": {}
      },
      "cell_type": "code",
      "source": [
        "cnn_model_aug.compile(optimizer=\"adam\",\n",
        "                      loss=\"categorical_crossentropy\",\n",
        "                      metrics=['accuracy'])"
      ],
      "execution_count": 0,
      "outputs": []
    },
    {
      "metadata": {
        "colab_type": "code",
        "id": "zI40lYVzouxl",
        "colab": {}
      },
      "cell_type": "code",
      "source": [
        "train_datagen = ImageDataGenerator(rotation_range=20,\n",
        "                                   width_shift_range=0.2,\n",
        "                                   height_shift_range=0.2,\n",
        "                                   zoom_range=0.2,\n",
        "                                   horizontal_flip=True,\n",
        "                                   vertical_flip=True)\n",
        "\n",
        "\n",
        "train_generator = train_datagen.flow(X_train_rus,\n",
        "                                     y_train_rus_ohe,\n",
        "                                     batch_size=32)\n"
      ],
      "execution_count": 0,
      "outputs": []
    },
    {
      "metadata": {
        "colab_type": "code",
        "id": "2LiL9hzNQ9f_",
        "outputId": "8736c621-2707-440e-e060-6f35a5d436a1",
        "colab": {
          "base_uri": "https://localhost:8080/",
          "height": 428
        }
      },
      "cell_type": "code",
      "source": [
        "cnn_aug = cnn_model_aug.fit_generator(train_generator,\n",
        "                                      epochs=10,\n",
        "                                      steps_per_epoch=len(X_train_rus) / 32,\n",
        "                                      validation_data=(X_val, y_val_ohe),\n",
        "                                      validation_steps=len(X_val) / 32)"
      ],
      "execution_count": 0,
      "outputs": [
        {
          "output_type": "stream",
          "text": [
            "WARNING:tensorflow:From /usr/local/lib/python3.6/dist-packages/tensorflow/python/ops/math_ops.py:3066: to_int32 (from tensorflow.python.ops.math_ops) is deprecated and will be removed in a future version.\n",
            "Instructions for updating:\n",
            "Use tf.cast instead.\n",
            "Epoch 1/10\n",
            "3546/3545 [==============================] - 99s 28ms/step - loss: 0.4083 - acc: 0.8229 - val_loss: 0.4352 - val_acc: 0.8126\n",
            "Epoch 2/10\n",
            "3546/3545 [==============================] - 96s 27ms/step - loss: 0.3743 - acc: 0.8389 - val_loss: 0.8063 - val_acc: 0.5858\n",
            "Epoch 3/10\n",
            "3546/3545 [==============================] - 96s 27ms/step - loss: 0.3670 - acc: 0.8437 - val_loss: 0.3448 - val_acc: 0.8474\n",
            "Epoch 4/10\n",
            "3546/3545 [==============================] - 93s 26ms/step - loss: 0.3566 - acc: 0.8489 - val_loss: 0.3534 - val_acc: 0.8506\n",
            "Epoch 5/10\n",
            "3546/3545 [==============================] - 93s 26ms/step - loss: 0.3540 - acc: 0.8502 - val_loss: 0.4387 - val_acc: 0.8295\n",
            "Epoch 6/10\n",
            "3546/3545 [==============================] - 95s 27ms/step - loss: 0.3505 - acc: 0.8523 - val_loss: 0.4099 - val_acc: 0.8219\n",
            "Epoch 7/10\n",
            "3546/3545 [==============================] - 94s 27ms/step - loss: 0.3441 - acc: 0.8545 - val_loss: 0.4251 - val_acc: 0.8109\n",
            "Epoch 8/10\n",
            "3546/3545 [==============================] - 93s 26ms/step - loss: 0.3418 - acc: 0.8553 - val_loss: 0.3700 - val_acc: 0.8584\n",
            "Epoch 9/10\n",
            "3546/3545 [==============================] - 95s 27ms/step - loss: 0.3397 - acc: 0.8573 - val_loss: 0.3123 - val_acc: 0.8643\n",
            "Epoch 10/10\n",
            "3546/3545 [==============================] - 94s 27ms/step - loss: 0.3366 - acc: 0.8577 - val_loss: 0.4232 - val_acc: 0.8127\n"
          ],
          "name": "stdout"
        }
      ]
    },
    {
      "metadata": {
        "colab_type": "code",
        "id": "3GUacOQs5T0Q",
        "outputId": "78767b14-c51b-49c2-f6ab-e552f845a9f6",
        "colab": {
          "base_uri": "https://localhost:8080/",
          "height": 295
        }
      },
      "cell_type": "code",
      "source": [
        "plot_history(cnn_aug)"
      ],
      "execution_count": 0,
      "outputs": [
        {
          "output_type": "display_data",
          "data": {
            "image/png": "[encoded data removed]",
            "text/plain": [
              "<Figure size 432x288 with 1 Axes>"
            ]
          },
          "metadata": {
            "tags": []
          }
        }
      ]
    },
    {
      "metadata": {
        "colab_type": "text",
        "id": "N-u6m26T5LPA"
      },
      "cell_type": "markdown",
      "source": [
        "**Test Set Results:**"
      ]
    },
    {
      "metadata": {
        "colab_type": "code",
        "id": "vJ9Ps_KZqkiu",
        "outputId": "0dda2c3a-7b1f-4c4d-d64b-a30c50608a1d",
        "colab": {
          "base_uri": "https://localhost:8080/",
          "height": 51
        }
      },
      "cell_type": "code",
      "source": [
        "cnn_model_aug.evaluate(X_test, y_test_ohe)"
      ],
      "execution_count": 0,
      "outputs": [
        {
          "output_type": "stream",
          "text": [
            "55505/55505 [==============================] - 5s 82us/step\n"
          ],
          "name": "stdout"
        },
        {
          "output_type": "execute_result",
          "data": {
            "text/plain": [
              "[0.4264874572174451, 0.8132240338740441]"
            ]
          },
          "metadata": {
            "tags": []
          },
          "execution_count": 21
        }
      ]
    },
    {
      "metadata": {
        "colab_type": "code",
        "id": "93OO4cDZD9gI",
        "colab": {}
      },
      "cell_type": "code",
      "source": [
        "# code to reset variables if needed\n",
        "# del cnn_model_aug, train_datagen, train_generator, cnn_aug"
      ],
      "execution_count": 0,
      "outputs": []
    },
    {
      "metadata": {
        "colab_type": "text",
        "id": "SExCRYpAyl14"
      },
      "cell_type": "markdown",
      "source": [
        "We tried various data augmentation techniques and found that rotation, shifts, mirroring (horizontal/vertical flip), zooming range had better test results sometimes (like on the subsamples) but not on the full training set. The accuracy for the full training set is 0.8132 whereas the baseline without data augmentation was 0.8198. Since the data augmentation didn't improve our results by much, we're not going to use it for part 3.3."
      ]
    },
    {
      "metadata": {
        "colab_type": "text",
        "id": "qQDgKR6hmHDY"
      },
      "cell_type": "markdown",
      "source": [
        "# 3.3"
      ]
    },
    {
      "metadata": {
        "colab_type": "text",
        "id": "zjgWcg2g6ZOg"
      },
      "cell_type": "markdown",
      "source": [
        "**Deep CNN with residual connections**"
      ]
    },
    {
      "metadata": {
        "colab_type": "code",
        "id": "fRmYDfVVGWsg",
        "colab": {}
      },
      "cell_type": "code",
      "source": [
        "num_classes = 2\n",
        "inputs = Input(shape=(50, 50, 3))\n",
        "\n",
        "# Set 1\n",
        "# layer 1\n",
        "conv1_1 = Conv2D(32, (3, 3),\n",
        "                 padding='same')(inputs)\n",
        "conv1_1 = BatchNormalization()(conv1_1)\n",
        "conv1_1 = Activation(\"relu\")(conv1_1)\n",
        "\n",
        "\n",
        "# layer 2\n",
        "conv1_2 = Conv2D(32, (3, 3),\n",
        "                 padding='same')(conv1_1)\n",
        "conv1_2 = BatchNormalization()(conv1_2)\n",
        "conv1_2 = Activation(\"relu\")(conv1_2)\n",
        "\n",
        "\n",
        "# layer 3\n",
        "conv1_3 = Conv2D(32, (3, 3),\n",
        "                 activation='relu',\n",
        "                 padding='same')(conv1_2)\n",
        "conv1_3 = BatchNormalization()(conv1_3)\n",
        "conv1_3 = Activation(\"relu\")(conv1_3)\n",
        "\n",
        "\n",
        "\n",
        "# add result of layer 1 + result of layer 3\n",
        "skip1 = add([conv1_1, conv1_3])\n",
        "maxpool_skip1 = MaxPooling2D(pool_size=(2, 2))(skip1)\n",
        "\n",
        "# Set 2\n",
        "# layer 4\n",
        "conv2_1 = Conv2D(32, (3, 3),\n",
        "                 padding='same')(maxpool_skip1)\n",
        "conv2_1 = BatchNormalization()(conv2_1)\n",
        "conv2_1 = Activation(\"relu\")(conv2_1)\n",
        "\n",
        "\n",
        "# layer 5\n",
        "conv2_2 = Conv2D(32, (3, 3),\n",
        "                 padding='same')(conv2_1)\n",
        "conv2_2 = BatchNormalization()(conv2_2)\n",
        "conv2_2 = Activation(\"relu\")(conv2_2)\n",
        "\n",
        "\n",
        "\n",
        "# skip 2\n",
        "skip2 = add([maxpool_skip1, conv2_2])\n",
        "maxpool_skip2 = MaxPooling2D(pool_size=(2, 2))(skip2)\n",
        "\n",
        "# Set 3\n",
        "# layer 6\n",
        "conv3_1 = Conv2D(32, (3, 3),\n",
        "                 padding='same')(maxpool_skip2)\n",
        "conv3_1 = BatchNormalization()(conv3_1)\n",
        "conv3_1 = Activation(\"relu\")(conv3_1)\n",
        "\n",
        "\n",
        "# layer 7\n",
        "conv3_2 = Conv2D(32, (3, 3),\n",
        "                 padding='same')(conv3_1)\n",
        "conv3_2 = BatchNormalization()(conv3_2)\n",
        "conv3_2 = Activation(\"relu\")(conv3_2)\n",
        "\n",
        "\n",
        "# skip 3\n",
        "skip3 = add([maxpool_skip2, conv3_2])\n",
        "maxpool_skip3 = MaxPooling2D(pool_size=(2, 2))(skip3)\n",
        "\n",
        "\n",
        "# Set 4\n",
        "# layer 8\n",
        "conv4_1 = Conv2D(32, (3, 3),\n",
        "                 padding='same')(maxpool_skip3)\n",
        "conv4_1 = BatchNormalization()(conv4_1)\n",
        "conv4_1 = Activation(\"relu\")(conv4_1)\n",
        "\n",
        "\n",
        "# layer 9\n",
        "conv4_2 = Conv2D(32, (3, 3),\n",
        "                 padding='same')(conv4_1)\n",
        "conv4_2 = BatchNormalization()(conv4_2)\n",
        "conv4_2 = Activation(\"relu\")(conv4_2)\n",
        "\n",
        "\n",
        "# skip 4\n",
        "skip4 = add([maxpool_skip3, conv4_2])\n",
        "maxpool_skip4 = MaxPooling2D(pool_size=(2, 2))(skip4)\n",
        "\n",
        "\n",
        "\n",
        "# Set 5\n",
        "# layer 10\n",
        "conv5_1 = Conv2D(32, (3, 3),\n",
        "                 padding='same')(maxpool_skip4)\n",
        "conv5_1 = BatchNormalization()(conv5_1)\n",
        "conv5_1 = Activation(\"relu\")(conv5_1)\n",
        "\n",
        "\n",
        "# layer 11\n",
        "conv5_2 = Conv2D(32, (3, 3),\n",
        "                 padding='same')(conv5_1)\n",
        "conv5_2 = BatchNormalization()(conv5_2)\n",
        "conv5_2 = Activation(\"relu\")(conv5_2)\n",
        "\n",
        "\n",
        "# skip 5\n",
        "skip5 = add([maxpool_skip4, conv5_2])\n",
        "maxpool_skip5 = MaxPooling2D(pool_size=(2, 2))(skip5)\n",
        "\n",
        "\n",
        "\n",
        "flat = Flatten()(maxpool_skip5)\n",
        "\n",
        "#layer 12\n",
        "dense = Dense(64)(flat)\n",
        "dense = BatchNormalization()(dense)\n",
        "dense = Activation(\"relu\")(dense)\n",
        "\n",
        "\n",
        "predictions = Dense(num_classes, activation='softmax')(dense)\n",
        "\n",
        "\n",
        "model_resnet = Model(inputs=inputs, outputs=predictions)"
      ],
      "execution_count": 0,
      "outputs": []
    },
    {
      "metadata": {
        "colab_type": "code",
        "id": "-JkHFyi8Py7g",
        "outputId": "03b49680-63af-4fed-8883-d67043fc5672",
        "colab": {
          "base_uri": "https://localhost:8080/",
          "height": 1887
        }
      },
      "cell_type": "code",
      "source": [
        "model_resnet.summary()"
      ],
      "execution_count": 0,
      "outputs": [
        {
          "output_type": "stream",
          "text": [
            "__________________________________________________________________________________________________\n",
            "Layer (type)                    Output Shape         Param #     Connected to                     \n",
            "==================================================================================================\n",
            "input_3 (InputLayer)            (None, 50, 50, 3)    0                                            \n",
            "__________________________________________________________________________________________________\n",
            "conv2d_19 (Conv2D)              (None, 50, 50, 32)   896         input_3[0][0]                    \n",
            "__________________________________________________________________________________________________\n",
            "batch_normalization_21 (BatchNo (None, 50, 50, 32)   128         conv2d_19[0][0]                  \n",
            "__________________________________________________________________________________________________\n",
            "activation_21 (Activation)      (None, 50, 50, 32)   0           batch_normalization_21[0][0]     \n",
            "__________________________________________________________________________________________________\n",
            "conv2d_20 (Conv2D)              (None, 50, 50, 32)   9248        activation_21[0][0]              \n",
            "__________________________________________________________________________________________________\n",
            "batch_normalization_22 (BatchNo (None, 50, 50, 32)   128         conv2d_20[0][0]                  \n",
            "__________________________________________________________________________________________________\n",
            "activation_22 (Activation)      (None, 50, 50, 32)   0           batch_normalization_22[0][0]     \n",
            "__________________________________________________________________________________________________\n",
            "conv2d_21 (Conv2D)              (None, 50, 50, 32)   9248        activation_22[0][0]              \n",
            "__________________________________________________________________________________________________\n",
            "batch_normalization_23 (BatchNo (None, 50, 50, 32)   128         conv2d_21[0][0]                  \n",
            "__________________________________________________________________________________________________\n",
            "activation_23 (Activation)      (None, 50, 50, 32)   0           batch_normalization_23[0][0]     \n",
            "__________________________________________________________________________________________________\n",
            "add_5 (Add)                     (None, 50, 50, 32)   0           activation_21[0][0]              \n",
            "                                                                 activation_23[0][0]              \n",
            "__________________________________________________________________________________________________\n",
            "max_pooling2d_9 (MaxPooling2D)  (None, 25, 25, 32)   0           add_5[0][0]                      \n",
            "__________________________________________________________________________________________________\n",
            "conv2d_22 (Conv2D)              (None, 25, 25, 32)   9248        max_pooling2d_9[0][0]            \n",
            "__________________________________________________________________________________________________\n",
            "batch_normalization_24 (BatchNo (None, 25, 25, 32)   128         conv2d_22[0][0]                  \n",
            "__________________________________________________________________________________________________\n",
            "activation_24 (Activation)      (None, 25, 25, 32)   0           batch_normalization_24[0][0]     \n",
            "__________________________________________________________________________________________________\n",
            "conv2d_23 (Conv2D)              (None, 25, 25, 32)   9248        activation_24[0][0]              \n",
            "__________________________________________________________________________________________________\n",
            "batch_normalization_25 (BatchNo (None, 25, 25, 32)   128         conv2d_23[0][0]                  \n",
            "__________________________________________________________________________________________________\n",
            "activation_25 (Activation)      (None, 25, 25, 32)   0           batch_normalization_25[0][0]     \n",
            "__________________________________________________________________________________________________\n",
            "add_6 (Add)                     (None, 25, 25, 32)   0           max_pooling2d_9[0][0]            \n",
            "                                                                 activation_25[0][0]              \n",
            "__________________________________________________________________________________________________\n",
            "max_pooling2d_10 (MaxPooling2D) (None, 12, 12, 32)   0           add_6[0][0]                      \n",
            "__________________________________________________________________________________________________\n",
            "conv2d_24 (Conv2D)              (None, 12, 12, 32)   9248        max_pooling2d_10[0][0]           \n",
            "__________________________________________________________________________________________________\n",
            "batch_normalization_26 (BatchNo (None, 12, 12, 32)   128         conv2d_24[0][0]                  \n",
            "__________________________________________________________________________________________________\n",
            "activation_26 (Activation)      (None, 12, 12, 32)   0           batch_normalization_26[0][0]     \n",
            "__________________________________________________________________________________________________\n",
            "conv2d_25 (Conv2D)              (None, 12, 12, 32)   9248        activation_26[0][0]              \n",
            "__________________________________________________________________________________________________\n",
            "batch_normalization_27 (BatchNo (None, 12, 12, 32)   128         conv2d_25[0][0]                  \n",
            "__________________________________________________________________________________________________\n",
            "activation_27 (Activation)      (None, 12, 12, 32)   0           batch_normalization_27[0][0]     \n",
            "__________________________________________________________________________________________________\n",
            "add_7 (Add)                     (None, 12, 12, 32)   0           max_pooling2d_10[0][0]           \n",
            "                                                                 activation_27[0][0]              \n",
            "__________________________________________________________________________________________________\n",
            "max_pooling2d_11 (MaxPooling2D) (None, 6, 6, 32)     0           add_7[0][0]                      \n",
            "__________________________________________________________________________________________________\n",
            "conv2d_26 (Conv2D)              (None, 6, 6, 32)     9248        max_pooling2d_11[0][0]           \n",
            "__________________________________________________________________________________________________\n",
            "batch_normalization_28 (BatchNo (None, 6, 6, 32)     128         conv2d_26[0][0]                  \n",
            "__________________________________________________________________________________________________\n",
            "activation_28 (Activation)      (None, 6, 6, 32)     0           batch_normalization_28[0][0]     \n",
            "__________________________________________________________________________________________________\n",
            "conv2d_27 (Conv2D)              (None, 6, 6, 32)     9248        activation_28[0][0]              \n",
            "__________________________________________________________________________________________________\n",
            "batch_normalization_29 (BatchNo (None, 6, 6, 32)     128         conv2d_27[0][0]                  \n",
            "__________________________________________________________________________________________________\n",
            "activation_29 (Activation)      (None, 6, 6, 32)     0           batch_normalization_29[0][0]     \n",
            "__________________________________________________________________________________________________\n",
            "add_8 (Add)                     (None, 6, 6, 32)     0           max_pooling2d_11[0][0]           \n",
            "                                                                 activation_29[0][0]              \n",
            "__________________________________________________________________________________________________\n",
            "max_pooling2d_12 (MaxPooling2D) (None, 3, 3, 32)     0           add_8[0][0]                      \n",
            "__________________________________________________________________________________________________\n",
            "conv2d_28 (Conv2D)              (None, 3, 3, 32)     9248        max_pooling2d_12[0][0]           \n",
            "__________________________________________________________________________________________________\n",
            "batch_normalization_30 (BatchNo (None, 3, 3, 32)     128         conv2d_28[0][0]                  \n",
            "__________________________________________________________________________________________________\n",
            "activation_30 (Activation)      (None, 3, 3, 32)     0           batch_normalization_30[0][0]     \n",
            "__________________________________________________________________________________________________\n",
            "conv2d_29 (Conv2D)              (None, 3, 3, 32)     9248        activation_30[0][0]              \n",
            "__________________________________________________________________________________________________\n",
            "batch_normalization_31 (BatchNo (None, 3, 3, 32)     128         conv2d_29[0][0]                  \n",
            "__________________________________________________________________________________________________\n",
            "activation_31 (Activation)      (None, 3, 3, 32)     0           batch_normalization_31[0][0]     \n",
            "__________________________________________________________________________________________________\n",
            "add_9 (Add)                     (None, 3, 3, 32)     0           max_pooling2d_12[0][0]           \n",
            "                                                                 activation_31[0][0]              \n",
            "__________________________________________________________________________________________________\n",
            "max_pooling2d_13 (MaxPooling2D) (None, 1, 1, 32)     0           add_9[0][0]                      \n",
            "__________________________________________________________________________________________________\n",
            "flatten_3 (Flatten)             (None, 32)           0           max_pooling2d_13[0][0]           \n",
            "__________________________________________________________________________________________________\n",
            "dense_5 (Dense)                 (None, 64)           2112        flatten_3[0][0]                  \n",
            "__________________________________________________________________________________________________\n",
            "batch_normalization_32 (BatchNo (None, 64)           256         dense_5[0][0]                    \n",
            "__________________________________________________________________________________________________\n",
            "activation_32 (Activation)      (None, 64)           0           batch_normalization_32[0][0]     \n",
            "__________________________________________________________________________________________________\n",
            "dense_6 (Dense)                 (None, 2)            130         activation_32[0][0]              \n",
            "==================================================================================================\n",
            "Total params: 97,282\n",
            "Trainable params: 96,450\n",
            "Non-trainable params: 832\n",
            "__________________________________________________________________________________________________\n"
          ],
          "name": "stdout"
        }
      ]
    },
    {
      "metadata": {
        "colab_type": "code",
        "id": "-NC1Yk0ALEL0",
        "colab": {}
      },
      "cell_type": "code",
      "source": [
        "model_resnet.compile(optimizer=\"adam\",\n",
        "                      loss=\"categorical_crossentropy\",\n",
        "                      metrics=['accuracy'])"
      ],
      "execution_count": 0,
      "outputs": []
    },
    {
      "metadata": {
        "colab_type": "code",
        "id": "WmxZN65DP3CO",
        "outputId": "5ea0c401-9697-45ea-95f2-c7f57629974e",
        "colab": {
          "base_uri": "https://localhost:8080/",
          "height": 714
        }
      },
      "cell_type": "code",
      "source": [
        "cnn_resnet = model_resnet.fit(X_train_rus, y_train_rus_ohe,\n",
        "                              batch_size=32,\n",
        "                              epochs=20,\n",
        "                              verbose=1,\n",
        "                              validation_data=(X_val, y_val_ohe))"
      ],
      "execution_count": 0,
      "outputs": [
        {
          "output_type": "stream",
          "text": [
            "Train on 113452 samples, validate on 22202 samples\n",
            "Epoch 1/20\n",
            "113452/113452 [==============================] - 95s 834us/step - loss: 0.3785 - acc: 0.8373 - val_loss: 0.3700 - val_acc: 0.8425\n",
            "Epoch 2/20\n",
            "113452/113452 [==============================] - 92s 811us/step - loss: 0.3388 - acc: 0.8573 - val_loss: 0.5268 - val_acc: 0.7628\n",
            "Epoch 3/20\n",
            "113452/113452 [==============================] - 91s 801us/step - loss: 0.3208 - acc: 0.8664 - val_loss: 0.3094 - val_acc: 0.8683\n",
            "Epoch 4/20\n",
            "113452/113452 [==============================] - 179s 2ms/step - loss: 0.3044 - acc: 0.8743 - val_loss: 0.3434 - val_acc: 0.8542\n",
            "Epoch 5/20\n",
            "113452/113452 [==============================] - 92s 814us/step - loss: 0.2913 - acc: 0.8805 - val_loss: 0.3663 - val_acc: 0.8521\n",
            "Epoch 6/20\n",
            "113452/113452 [==============================] - 91s 802us/step - loss: 0.2842 - acc: 0.8829 - val_loss: 0.3455 - val_acc: 0.8505\n",
            "Epoch 7/20\n",
            "113452/113452 [==============================] - 90s 797us/step - loss: 0.2750 - acc: 0.8877 - val_loss: 0.3407 - val_acc: 0.8499\n",
            "Epoch 8/20\n",
            "113452/113452 [==============================] - 93s 818us/step - loss: 0.2681 - acc: 0.8900 - val_loss: 0.6185 - val_acc: 0.7566\n",
            "Epoch 9/20\n",
            "113452/113452 [==============================] - 91s 800us/step - loss: 0.2602 - acc: 0.8939 - val_loss: 0.5443 - val_acc: 0.7324\n",
            "Epoch 10/20\n",
            "113452/113452 [==============================] - 93s 815us/step - loss: 0.2545 - acc: 0.8959 - val_loss: 0.2896 - val_acc: 0.8783\n",
            "Epoch 11/20\n",
            "113452/113452 [==============================] - 93s 822us/step - loss: 0.2465 - acc: 0.8990 - val_loss: 0.3368 - val_acc: 0.8565\n",
            "Epoch 12/20\n",
            "113452/113452 [==============================] - 91s 804us/step - loss: 0.2399 - acc: 0.9019 - val_loss: 0.3841 - val_acc: 0.8439\n",
            "Epoch 13/20\n",
            "113452/113452 [==============================] - 185s 2ms/step - loss: 0.2323 - acc: 0.9063 - val_loss: 0.3249 - val_acc: 0.8842\n",
            "Epoch 14/20\n",
            "113452/113452 [==============================] - 152s 1ms/step - loss: 0.2269 - acc: 0.9082 - val_loss: 0.2964 - val_acc: 0.8808\n",
            "Epoch 15/20\n",
            "113452/113452 [==============================] - 186s 2ms/step - loss: 0.2198 - acc: 0.9107 - val_loss: 0.3066 - val_acc: 0.8715\n",
            "Epoch 16/20\n",
            "113452/113452 [==============================] - 178s 2ms/step - loss: 0.2131 - acc: 0.9134 - val_loss: 0.3030 - val_acc: 0.8739\n",
            "Epoch 17/20\n",
            "113452/113452 [==============================] - 90s 791us/step - loss: 0.2045 - acc: 0.9165 - val_loss: 0.3389 - val_acc: 0.8799\n",
            "Epoch 18/20\n",
            "113452/113452 [==============================] - 92s 807us/step - loss: 0.1989 - acc: 0.9193 - val_loss: 0.3145 - val_acc: 0.8855\n",
            "Epoch 19/20\n",
            "113452/113452 [==============================] - 90s 794us/step - loss: 0.1920 - acc: 0.9226 - val_loss: 0.5326 - val_acc: 0.8049\n",
            "Epoch 20/20\n",
            "113452/113452 [==============================] - 126s 1ms/step - loss: 0.1858 - acc: 0.9251 - val_loss: 0.3886 - val_acc: 0.8483\n"
          ],
          "name": "stdout"
        }
      ]
    },
    {
      "metadata": {
        "colab_type": "code",
        "id": "_BwhDhX9QF0k",
        "outputId": "46a100a8-2735-47c3-8c85-8034bebd5e16",
        "colab": {
          "base_uri": "https://localhost:8080/",
          "height": 295
        }
      },
      "cell_type": "code",
      "source": [
        "plot_history(cnn_resnet)"
      ],
      "execution_count": 0,
      "outputs": [
        {
          "output_type": "display_data",
          "data": {
            "image/png": "[encoded data removed]",
            "text/plain": [
              "<Figure size 432x288 with 1 Axes>"
            ]
          },
          "metadata": {
            "tags": []
          }
        }
      ]
    },
    {
      "metadata": {
        "colab_type": "text",
        "id": "DRMGZfHv6zSJ"
      },
      "cell_type": "markdown",
      "source": [
        "**Test Set Results:** "
      ]
    },
    {
      "metadata": {
        "colab_type": "code",
        "id": "NfrKsoa3XEZA",
        "outputId": "f8b29258-7a44-4bb5-b3a7-735bb5cb446f",
        "colab": {
          "base_uri": "https://localhost:8080/",
          "height": 51
        }
      },
      "cell_type": "code",
      "source": [
        "model_resnet.evaluate(X_test, y_test_ohe)"
      ],
      "execution_count": 0,
      "outputs": [
        {
          "output_type": "stream",
          "text": [
            "55505/55505 [==============================] - 9s 169us/step\n"
          ],
          "name": "stdout"
        },
        {
          "output_type": "execute_result",
          "data": {
            "text/plain": [
              "[0.3817535629992807, 0.8519953157426903]"
            ]
          },
          "metadata": {
            "tags": []
          },
          "execution_count": 46
        }
      ]
    },
    {
      "metadata": {
        "colab_type": "text",
        "id": "FqYxvRYW63Wq"
      },
      "cell_type": "markdown",
      "source": [
        "### Deep CNN without residual connections"
      ]
    },
    {
      "metadata": {
        "colab_type": "code",
        "id": "_PTHqzdBXZ5u",
        "colab": {}
      },
      "cell_type": "code",
      "source": [
        "num_classes = 2\n",
        "inputs = Input(shape=(50, 50, 3))\n",
        "\n",
        "# Set 1\n",
        "# layer 1\n",
        "conv1_1 = Conv2D(32, (3, 3),\n",
        "                 padding='same')(inputs)\n",
        "conv1_1 = BatchNormalization()(conv1_1)\n",
        "conv1_1 = Activation(\"relu\")(conv1_1)\n",
        "\n",
        "\n",
        "# layer 2\n",
        "conv1_2 = Conv2D(32, (3, 3),\n",
        "                 padding='same')(conv1_1)\n",
        "conv1_2 = BatchNormalization()(conv1_2)\n",
        "conv1_2 = Activation(\"relu\")(conv1_2)\n",
        "\n",
        "\n",
        "# layer 3\n",
        "conv1_3 = Conv2D(32, (3, 3),\n",
        "                 activation='relu',\n",
        "                 padding='same')(conv1_2)\n",
        "conv1_3 = BatchNormalization()(conv1_3)\n",
        "conv1_3 = Activation(\"relu\")(conv1_3)\n",
        "\n",
        "\n",
        "maxpool1 = MaxPooling2D(pool_size=(2, 2))(conv1_3)\n",
        "\n",
        "# Set 2\n",
        "# layer 4\n",
        "conv2_1 = Conv2D(32, (3, 3),\n",
        "                 padding='same')(maxpool1)\n",
        "conv2_1 = BatchNormalization()(conv2_1)\n",
        "conv2_1 = Activation(\"relu\")(conv2_1)\n",
        "\n",
        "\n",
        "# layer 5\n",
        "conv2_2 = Conv2D(32, (3, 3),\n",
        "                 padding='same')(conv2_1)\n",
        "conv2_2 = BatchNormalization()(conv2_2)\n",
        "conv2_2 = Activation(\"relu\")(conv2_2)\n",
        "\n",
        "\n",
        "maxpool2 = MaxPooling2D(pool_size=(2, 2))(conv2_2)\n",
        "\n",
        "\n",
        "# Set 3\n",
        "# layer 6\n",
        "conv3_1 = Conv2D(32, (3, 3),\n",
        "                 padding='same')(maxpool2)\n",
        "conv3_1 = BatchNormalization()(conv3_1)\n",
        "conv3_1 = Activation(\"relu\")(conv3_1)\n",
        "\n",
        "\n",
        "# layer 7\n",
        "conv3_2 = Conv2D(32, (3, 3),\n",
        "                 padding='same')(conv3_1)\n",
        "conv3_2 = BatchNormalization()(conv3_2)\n",
        "conv3_2 = Activation(\"relu\")(conv3_2)\n",
        "\n",
        "\n",
        "maxpool3 = MaxPooling2D(pool_size=(2, 2))(conv3_2)\n",
        "\n",
        "\n",
        "# Set 4\n",
        "# layer 8\n",
        "conv4_1 = Conv2D(32, (3, 3),\n",
        "                 padding='same')(maxpool3)\n",
        "conv4_1 = BatchNormalization()(conv4_1)\n",
        "conv4_1 = Activation(\"relu\")(conv4_1)\n",
        "\n",
        "\n",
        "# layer 9\n",
        "conv4_2 = Conv2D(32, (3, 3),\n",
        "                 padding='same')(conv4_1)\n",
        "conv4_2 = BatchNormalization()(conv4_2)\n",
        "conv4_2 = Activation(\"relu\")(conv4_2)\n",
        "\n",
        "\n",
        "maxpool4 = MaxPooling2D(pool_size=(2, 2))(conv4_2)\n",
        "\n",
        "# Set 5\n",
        "# layer 10\n",
        "conv5_1 = Conv2D(32, (3, 3),\n",
        "                 padding='same')(maxpool4)\n",
        "conv5_1 = BatchNormalization()(conv5_1)\n",
        "conv5_1 = Activation(\"relu\")(conv5_1)\n",
        "\n",
        "\n",
        "# layer 11\n",
        "conv5_2 = Conv2D(32, (3, 3),\n",
        "                 padding='same')(conv5_1)\n",
        "conv5_2 = BatchNormalization()(conv5_2)\n",
        "conv5_2 = Activation(\"relu\")(conv5_2)\n",
        "\n",
        "\n",
        "maxpool5 = MaxPooling2D(pool_size=(2, 2))(conv5_2)\n",
        "\n",
        "\n",
        "flat = Flatten()(maxpool5)\n",
        "\n",
        "#layer 12\n",
        "dense = Dense(64)(flat)\n",
        "dense = BatchNormalization()(dense)\n",
        "dense = Activation(\"relu\")(dense)\n",
        "\n",
        "\n",
        "predictions = Dense(num_classes, activation='softmax')(dense)\n",
        "\n",
        "model_nores = Model(inputs=inputs, outputs=predictions)"
      ],
      "execution_count": 0,
      "outputs": []
    },
    {
      "metadata": {
        "colab_type": "code",
        "id": "-q3AvLoDZl2j",
        "colab": {}
      },
      "cell_type": "code",
      "source": [
        "model_nores.compile(optimizer=\"adam\",\n",
        "                    loss=\"categorical_crossentropy\",\n",
        "                    metrics=['accuracy'])"
      ],
      "execution_count": 0,
      "outputs": []
    },
    {
      "metadata": {
        "colab_type": "code",
        "id": "FQpSOwNNZrUw",
        "outputId": "e1f7e15d-1af4-4fa4-d3b9-709b7c22faa0",
        "colab": {
          "base_uri": "https://localhost:8080/",
          "height": 714
        }
      },
      "cell_type": "code",
      "source": [
        "cnn_nores = model_nores.fit(X_train_rus, y_train_rus_ohe,\n",
        "                            batch_size=32,\n",
        "                            epochs=20,\n",
        "                            verbose=1,\n",
        "                            validation_data=(X_val, y_val_ohe))"
      ],
      "execution_count": 0,
      "outputs": [
        {
          "output_type": "stream",
          "text": [
            "Train on 113452 samples, validate on 22202 samples\n",
            "Epoch 1/20\n",
            "113452/113452 [==============================] - 173s 2ms/step - loss: 0.3882 - acc: 0.8330 - val_loss: 0.6105 - val_acc: 0.7999\n",
            "Epoch 2/20\n",
            "113452/113452 [==============================] - 146s 1ms/step - loss: 0.3496 - acc: 0.8520 - val_loss: 0.7707 - val_acc: 0.7834\n",
            "Epoch 3/20\n",
            "113452/113452 [==============================] - 89s 785us/step - loss: 0.3308 - acc: 0.8614 - val_loss: 0.3416 - val_acc: 0.8621\n",
            "Epoch 4/20\n",
            "113452/113452 [==============================] - 89s 780us/step - loss: 0.3177 - acc: 0.8683 - val_loss: 0.3209 - val_acc: 0.8685\n",
            "Epoch 5/20\n",
            "113452/113452 [==============================] - 88s 777us/step - loss: 0.3053 - acc: 0.8733 - val_loss: 0.3162 - val_acc: 0.8670\n",
            "Epoch 6/20\n",
            "113452/113452 [==============================] - 178s 2ms/step - loss: 0.2964 - acc: 0.8783 - val_loss: 0.3281 - val_acc: 0.8590\n",
            "Epoch 7/20\n",
            "113452/113452 [==============================] - 179s 2ms/step - loss: 0.2893 - acc: 0.8813 - val_loss: 0.5194 - val_acc: 0.7925\n",
            "Epoch 8/20\n",
            "113452/113452 [==============================] - 172s 2ms/step - loss: 0.2822 - acc: 0.8842 - val_loss: 0.2844 - val_acc: 0.8782\n",
            "Epoch 9/20\n",
            "113452/113452 [==============================] - 144s 1ms/step - loss: 0.2763 - acc: 0.8860 - val_loss: 0.3180 - val_acc: 0.8606\n",
            "Epoch 10/20\n",
            "113452/113452 [==============================] - 88s 777us/step - loss: 0.2707 - acc: 0.8888 - val_loss: 0.3390 - val_acc: 0.8487\n",
            "Epoch 11/20\n",
            "113452/113452 [==============================] - 144s 1ms/step - loss: 0.2652 - acc: 0.8905 - val_loss: 0.3043 - val_acc: 0.8594\n",
            "Epoch 12/20\n",
            "113452/113452 [==============================] - 143s 1ms/step - loss: 0.2590 - acc: 0.8942 - val_loss: 0.3177 - val_acc: 0.8679\n",
            "Epoch 13/20\n",
            "113452/113452 [==============================] - 143s 1ms/step - loss: 0.2541 - acc: 0.8964 - val_loss: 0.3046 - val_acc: 0.8729\n",
            "Epoch 14/20\n",
            "113452/113452 [==============================] - 89s 781us/step - loss: 0.2482 - acc: 0.8989 - val_loss: 0.3128 - val_acc: 0.8687\n",
            "Epoch 15/20\n",
            "113452/113452 [==============================] - 142s 1ms/step - loss: 0.2433 - acc: 0.9009 - val_loss: 0.2702 - val_acc: 0.8838\n",
            "Epoch 16/20\n",
            "113452/113452 [==============================] - 90s 795us/step - loss: 0.2386 - acc: 0.9035 - val_loss: 0.2920 - val_acc: 0.8820\n",
            "Epoch 17/20\n",
            "113452/113452 [==============================] - 142s 1ms/step - loss: 0.2331 - acc: 0.9050 - val_loss: 0.3543 - val_acc: 0.8656\n",
            "Epoch 18/20\n",
            "113452/113452 [==============================] - 88s 778us/step - loss: 0.2276 - acc: 0.9086 - val_loss: 0.5933 - val_acc: 0.7595\n",
            "Epoch 19/20\n",
            "113452/113452 [==============================] - 145s 1ms/step - loss: 0.2227 - acc: 0.9104 - val_loss: 0.2849 - val_acc: 0.8797\n",
            "Epoch 20/20\n",
            "113452/113452 [==============================] - 143s 1ms/step - loss: 0.2158 - acc: 0.9119 - val_loss: 0.4146 - val_acc: 0.8389\n"
          ],
          "name": "stdout"
        }
      ]
    },
    {
      "metadata": {
        "colab_type": "code",
        "id": "JvxZ5jkPZtzD",
        "outputId": "e85907c1-b3b0-4b90-90e8-e0e73146de12",
        "colab": {
          "base_uri": "https://localhost:8080/",
          "height": 295
        }
      },
      "cell_type": "code",
      "source": [
        "plot_history(cnn_nores)"
      ],
      "execution_count": 0,
      "outputs": [
        {
          "output_type": "display_data",
          "data": {
            "image/png": "[encoded data removed]",
            "text/plain": [
              "<Figure size 432x288 with 1 Axes>"
            ]
          },
          "metadata": {
            "tags": []
          }
        }
      ]
    },
    {
      "metadata": {
        "colab_type": "text",
        "id": "07K970Xr9kUV"
      },
      "cell_type": "markdown",
      "source": [
        "**Test Set Results:**"
      ]
    },
    {
      "metadata": {
        "colab_type": "code",
        "id": "bFo4VRmkZy1Q",
        "outputId": "d49f5b45-7079-482d-ffd7-1b31cc73461c",
        "colab": {
          "base_uri": "https://localhost:8080/",
          "height": 51
        }
      },
      "cell_type": "code",
      "source": [
        "model_nores.evaluate(X_test, y_test_ohe)"
      ],
      "execution_count": 0,
      "outputs": [
        {
          "output_type": "stream",
          "text": [
            "55505/55505 [==============================] - 43s 775us/step\n"
          ],
          "name": "stdout"
        },
        {
          "output_type": "execute_result",
          "data": {
            "text/plain": [
              "[0.4049176681316626, 0.8389154130269274]"
            ]
          },
          "metadata": {
            "tags": []
          },
          "execution_count": 54
        }
      ]
    },
    {
      "metadata": {
        "colab_type": "text",
        "id": "DM2FqX6hVboy"
      },
      "cell_type": "markdown",
      "source": [
        "**Comparing CNN with residual connections and without**"
      ]
    },
    {
      "metadata": {
        "colab_type": "code",
        "id": "gHqlj5NQbD7v",
        "colab": {}
      },
      "cell_type": "code",
      "source": [
        "def plot_compare(log_res, log_nores):\n",
        "    df_res = pd.DataFrame(log_res.history)\n",
        "    plt.plot(df_res[['val_acc']], label='Residual')\n",
        "    plt.legend()\n",
        "    df_nores = pd.DataFrame(log_nores.history)\n",
        "    plt.plot(df_nores[['val_acc']], label='w/o Residual')\n",
        "    plt.legend()\n",
        "    plt.ylabel(\"Accuracy\")\n",
        "    plt.xlabel(\"Epoch\")\n",
        "    plt.title(\"CNN validation results\")"
      ],
      "execution_count": 0,
      "outputs": []
    },
    {
      "metadata": {
        "colab_type": "code",
        "id": "lSbn0QEEVW3m",
        "outputId": "9125febc-1d5f-4afb-8f47-ba3999f96863",
        "colab": {
          "base_uri": "https://localhost:8080/",
          "height": 295
        }
      },
      "cell_type": "code",
      "source": [
        "plot_compare(cnn_resnet, cnn_nores)"
      ],
      "execution_count": 0,
      "outputs": [
        {
          "output_type": "display_data",
          "data": {
            "image/png": "[encoded data removed]",
            "text/plain": [
              "<Figure size 432x288 with 1 Axes>"
            ]
          },
          "metadata": {
            "tags": []
          }
        }
      ]
    },
    {
      "metadata": {
        "colab_type": "text",
        "id": "tlbZxHzRgrVL"
      },
      "cell_type": "markdown",
      "source": [
        "In comparing the deep CNN with residual connections and without residual connections, in general the residual CNN outperforms the CNN without residuals. Our CNN with residuals (test accuracy: 0.8520) does  better than the CNN without residuals (test accuracy: 0.8389). Both models performed better than our baseline (test accuracy: 0.8198). \n",
        "\n",
        "One interesting observation is that the starting validation accuracy for the residual CNN is higher than that of the regular CNN. For both models, the validation accuracy over epochs fluctuates but generally has an increasing trend. \n",
        "\n",
        "In addition, we experimented both putting batch normalization before and after relu, and in our case, having batch normalization before relu generates better results. "
      ]
    }
  ]
}